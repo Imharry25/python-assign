{
 "cells": [
  {
   "cell_type": "code",
   "execution_count": null,
   "id": "c76c0f1f",
   "metadata": {},
   "outputs": [],
   "source": [
    "1. In the below elements which of them are values or an expression? eg:- values can be\n",
    "integer or string and expressions will be mathematical operators.\n",
    "String 'hello'\n",
    "Integer  -87.8, 6\n",
    "Mathematical operator\n",
    "*\n",
    "-\n",
    "/\n",
    "+"
   ]
  },
  {
   "cell_type": "code",
   "execution_count": null,
   "id": "248b010f",
   "metadata": {},
   "outputs": [],
   "source": [
    "What is the difference between string and variable?\n",
    "a = 5\n",
    "a is a variable that stores the value 5.A variable can be of different types like integer, string, float.\n",
    "\n",
    "a = \"5\"\n",
    "anything you assign to a variable using quotes is a string."
   ]
  },
  {
   "cell_type": "code",
   "execution_count": null,
   "id": "1d93c716",
   "metadata": {},
   "outputs": [],
   "source": [
    "Types of data types\n",
    "Numeric(Integer, complex number, float)\n",
    "Sequence Type(strings, list, tuple)\n",
    "Boolean\n",
    "Set\n",
    "Dictionary\n",
    "\n",
    "Integer          24    Immutable\n",
    "Complex number   2+7j  Immutable\n",
    "float            5.0   Imutable\n",
    "strings         'Hello', \"2.4\"   Immutable\n",
    "Booleans        True/False\n",
    "Lists           [1,2,3,4,5]\n",
    "Tuples          (1,2,3,4,5)\n",
    "Dictionary      {\"a\":1, \"b\":2, \"c\":3}\n"
   ]
  },
  {
   "cell_type": "code",
   "execution_count": null,
   "id": "684519fe",
   "metadata": {},
   "outputs": [],
   "source": [
    "What is an expression made up of? What do all expressions do?\n",
    "A combination of operands and operators is called an expression. The expression in Python produces some value or result \n",
    "after being interpreted by the Python interpreter.The expression in Python can be considered as a logical line of code that\n",
    "is evaluated to obtain some result\n",
    "e.g. \n",
    "a = 25    # statement\n",
    "a = a + 2 #expression\n",
    "print(a)  #statement\n",
    "\n",
    "2 is added to the variable a. After the addition is performed, the result is assigned to the variable a."
   ]
  },
  {
   "cell_type": "code",
   "execution_count": null,
   "id": "72969dff",
   "metadata": {},
   "outputs": [],
   "source": [
    "This assignment statements, like spam = 10. What is the difference between an\n",
    "expression and a statement?\n",
    "a = 25    # statement\n",
    "a = a + 2 #expression\n",
    "print(a)  #statement\n",
    "\n",
    "An expression in Python is very different from statements in Python. A statement is not evaluated for some results.\n",
    "A statement is used for creating variables or for displaying values\n",
    "Expressions can be assigned or used as operands, while statements can only be declared"
   ]
  },
  {
   "cell_type": "code",
   "execution_count": 2,
   "id": "3236fff2",
   "metadata": {},
   "outputs": [
    {
     "data": {
      "text/plain": [
       "23"
      ]
     },
     "execution_count": 2,
     "metadata": {},
     "output_type": "execute_result"
    }
   ],
   "source": [
    "bacon = 22\n",
    "bacon + 1"
   ]
  },
  {
   "cell_type": "code",
   "execution_count": 3,
   "id": "00f10e43",
   "metadata": {},
   "outputs": [
    {
     "data": {
      "text/plain": [
       "'spamspamspam'"
      ]
     },
     "execution_count": 3,
     "metadata": {},
     "output_type": "execute_result"
    }
   ],
   "source": [
    "'spam'*3"
   ]
  },
  {
   "cell_type": "code",
   "execution_count": 4,
   "id": "5d0f5b13",
   "metadata": {},
   "outputs": [
    {
     "data": {
      "text/plain": [
       "'spamspamspam'"
      ]
     },
     "execution_count": 4,
     "metadata": {},
     "output_type": "execute_result"
    }
   ],
   "source": [
    "'spam' + 'spamspam'"
   ]
  },
  {
   "cell_type": "code",
   "execution_count": null,
   "id": "fde634f8",
   "metadata": {},
   "outputs": [],
   "source": [
    "Why is eggs a valid variable name while 100 is invalid?\n",
    "Variable names cannot begin with a number."
   ]
  },
  {
   "cell_type": "code",
   "execution_count": null,
   "id": "aa4df7d9",
   "metadata": {},
   "outputs": [],
   "source": [
    " What three functions can be used to get the integer, floating-point number, or string\n",
    "version of a value?\n",
    "int() , float() , str( )"
   ]
  },
  {
   "cell_type": "code",
   "execution_count": 7,
   "id": "e81c4dc5",
   "metadata": {},
   "outputs": [
    {
     "data": {
      "text/plain": [
       "'i have eaten99buritos'"
      ]
     },
     "execution_count": 7,
     "metadata": {},
     "output_type": "execute_result"
    }
   ],
   "source": [
    "'i have eaten' + '99' + 'buritos'\n",
    "#can only concatenate str (not \"int\") to str"
   ]
  },
  {
   "cell_type": "code",
   "execution_count": null,
   "id": "00be79fe",
   "metadata": {},
   "outputs": [],
   "source": []
  }
 ],
 "metadata": {
  "kernelspec": {
   "display_name": "Python 3 (ipykernel)",
   "language": "python",
   "name": "python3"
  },
  "language_info": {
   "codemirror_mode": {
    "name": "ipython",
    "version": 3
   },
   "file_extension": ".py",
   "mimetype": "text/x-python",
   "name": "python",
   "nbconvert_exporter": "python",
   "pygments_lexer": "ipython3",
   "version": "3.9.7"
  }
 },
 "nbformat": 4,
 "nbformat_minor": 5
}
